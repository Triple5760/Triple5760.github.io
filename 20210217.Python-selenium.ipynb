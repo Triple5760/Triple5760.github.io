{
 "cells": [
  {
   "cell_type": "code",
   "execution_count": 1,
   "metadata": {},
   "outputs": [
    {
     "name": "stdout",
     "output_type": "stream",
     "text": [
      "[테크월드뉴스=이재민 기자] 글로벌 유통기업 마우저 일렉트로닉스가 Intel Agilex(인텔 애질렉스) F-시리즈 FPGA 개발 키트를 공급한다. 이 키트의 ...\n"
     ]
    }
   ],
   "source": [
    "\n",
    "from selenium import webdriver\n",
    "from selenium.webdriver.common.keys import Keys\n",
    "\n",
    "driver = webdriver.Chrome()\n",
    "driver.get(\"https://www.google.co.kr/search?q=intel&hl=ko&sxsrf=ALeKk004ECBYXZq1B7km-TSeuZAiCrdhcQ:1613484714334&source=lnms&tbm=nws&sa=X&ved=2ahUKEwjA9v35yu7uAhVIPnAKHV6YBFsQ_AUoAXoECA0QAw&biw=1022&bih=779\")\n",
    "elem = driver.find_element_by_name(\"q\")\n",
    "elem.clear()\n",
    "elem.send_keys(\"Intel\")\n",
    "elem.send_keys(Keys.RETURN)\n",
    "\n",
    "elem = driver.find_elements_by_css_selector(\".Y3v8qd\")[0]\n",
    "print(elem.text)\n",
    " \n",
    "    \n",
    "driver.close()\n",
    "\n",
    "# elem = driver.find_element_by_xpath(\"//div[@class='language-text highlighter-rouge']/pre[@class='highlight']/code\")\n",
    "\n",
    "# assert \"Python\" in driver.title\n",
    "# elem = driver.find_element_by_name(\"q\")\n",
    "# elem.clear()\n",
    "# elem.send_keys(\"pycon\")\n",
    "# elem.send_keys(Keys.RETURN)\n",
    "# assert \"No results found.\" not in driver.page_source\n",
    "# driver.close()\n",
    "\n",
    "\n"
   ]
  },
  {
   "cell_type": "code",
   "execution_count": 2,
   "metadata": {},
   "outputs": [
    {
     "name": "stdout",
     "output_type": "stream",
     "text": [
      "[테크월드뉴스=이재민 기자] 글로벌 유통기업 마우저 일렉트로닉스가 Intel Agilex(인텔 애질렉스) F-시리즈 FPGA 개발 키트를 공급한다. 이 키트의 ...\n",
      "15일(현지시간) 경제 매체 배런스에 따르면 위스콘신주 투자위원회(SWIB)는 미국 대표 반도체 기업 인텔(INTC) 주식을 대량 매도한 반면 제너럴 ...\n",
      "반도체 유통업체 마우저일렉트로닉스가 인텔 애질렉스 F-시리즈 프로그래머블반도체(FPGA) 개발도구를 공급한다고 16일 밝혔다. PCI-SIG 호환 ...\n",
      "최근 인텔은 범용 메모리에 가까운 3D XPoint 기술을 사용하는 Optane을 발표했습니다. 이것은 주로 RAM으로 작동하기에 충분히 빠른 비 휘발성 ...\n",
      "그는 경력의 첫 걸음을 지난 1979년 인텔에서 엔지니어로 시작했고, 이어 최고기술책임자(CTO)까지 역임한 입지전적인 인물이자, 대표적인 '인텔맨' ...\n"
     ]
    }
   ],
   "source": [
    "driver = webdriver.Chrome()\n",
    "driver.get(\"https://www.google.co.kr/search?q=intel&hl=ko&sxsrf=ALeKk004ECBYXZq1B7km-TSeuZAiCrdhcQ:1613484714334&source=lnms&tbm=nws&sa=X&ved=2ahUKEwjA9v35yu7uAhVIPnAKHV6YBFsQ_AUoAXoECA0QAw&biw=1022&bih=779\")\n",
    "elem = driver.find_element_by_name(\"q\")\n",
    "elem.clear()\n",
    "elem.send_keys(\"Intel\")\n",
    "elem.send_keys(Keys.RETURN)\n",
    "\n",
    "for i in range(5):\n",
    "\n",
    "    elem = driver.find_elements_by_css_selector(\".Y3v8qd\")[i]\n",
    "    print(elem.text)\n",
    "    i = elem\n",
    "    \n",
    "driver.close()\n"
   ]
  },
  {
   "cell_type": "code",
   "execution_count": null,
   "metadata": {},
   "outputs": [],
   "source": [
    "driver = webdriver.Chrome()\n",
    "driver.get(\"https://www.google.co.kr/search?q=intel&hl=ko&sxsrf=ALeKk004ECBYXZq1B7km-TSeuZAiCrdhcQ:1613484714334&source=lnms&tbm=nws&sa=X&ved=2ahUKEwjA9v35yu7uAhVIPnAKHV6YBFsQ_AUoAXoECA0QAw&biw=1022&bih=779\")\n",
    "elem = driver.find_element_by_name(\"q\")\n",
    "elem.clear()\n",
    "elem.send_keys(\"Intel\")\n",
    "elem.send_keys(Keys.RETURN)\n",
    "\n",
    "for i in range(5):\n",
    "\n",
    "    elem = driver.find_elements_by_css_selector(\".Y3v8qd\")[i]\n",
    "    print(elem.text)\n",
    "    i = elem\n",
    "    \n",
    "driver.close()\n"
   ]
  }
 ],
 "metadata": {
  "kernelspec": {
   "display_name": "Python 3",
   "language": "python",
   "name": "python3"
  },
  "language_info": {
   "codemirror_mode": {
    "name": "ipython",
    "version": 3
   },
   "file_extension": ".py",
   "mimetype": "text/x-python",
   "name": "python",
   "nbconvert_exporter": "python",
   "pygments_lexer": "ipython3",
   "version": "3.7.6"
  }
 },
 "nbformat": 4,
 "nbformat_minor": 4
}
